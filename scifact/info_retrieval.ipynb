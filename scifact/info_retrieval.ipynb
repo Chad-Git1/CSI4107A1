{
 "cells": [
  {
   "cell_type": "code",
   "execution_count": 1,
   "metadata": {},
   "outputs": [
    {
     "name": "stdout",
     "output_type": "stream",
     "text": [
      "Error: The file 'corpus.jsonl' was not found.\n"
     ]
    },
    {
     "name": "stderr",
     "output_type": "stream",
     "text": [
      "[nltk_data] Downloading package punkt to\n",
      "[nltk_data]     C:\\Users\\prono\\AppData\\Roaming\\nltk_data...\n",
      "[nltk_data]   Package punkt is already up-to-date!\n",
      "[nltk_data] Downloading package stopwords to\n",
      "[nltk_data]     C:\\Users\\prono\\AppData\\Roaming\\nltk_data...\n",
      "[nltk_data]   Package stopwords is already up-to-date!\n"
     ]
    }
   ],
   "source": [
    "import json\n",
    "import re\n",
    "from nltk.tokenize import word_tokenize\n",
    "from nltk.corpus import stopwords\n",
    "from nltk.stem import PorterStemmer\n",
    "import nltk\n",
    "\n",
    "# Download NLTK data files (if not already downloaded)\n",
    "nltk.download('punkt')\n",
    "nltk.download('stopwords')\n",
    "\n",
    "\n",
    "def preprocess(text):\n",
    "    \"\"\"\n",
    "    Preprocess the input text by tokenizing, removing non-alphanumeric tokens, \n",
    "    converting to lowercase, removing stopwords, and stemming.\n",
    "    \"\"\"\n",
    "    # Tokenization\n",
    "    tokens = word_tokenize(text)\n",
    "    \n",
    "    # Remove non-alphanumeric and convert to lowercase\n",
    "    tokens = [re.sub(r'\\W+', '', token).lower() for token in tokens if token.isalnum()]\n",
    "    \n",
    "    # Stopword removal\n",
    "    stop_words = set(stopwords.words('english'))\n",
    "    tokens = [token for token in tokens if token not in stop_words]\n",
    "    \n",
    "    # Stemming\n",
    "    stemmer = PorterStemmer()\n",
    "    tokens = [stemmer.stem(token) for token in tokens]\n",
    "    \n",
    "    return tokens\n",
    "\n",
    "# Read and preprocess documents\n",
    "corpus = {}\n",
    "try:\n",
    "    with open(\"corpus.jsonl\", \"r\") as f:\n",
    "        for line in f:\n",
    "            # Parse the JSON line\n",
    "            doc = json.loads(line)\n",
    "            \n",
    "            # Extract document ID and abstract\n",
    "            if 'doc_id' in doc and 'abstract' in doc:\n",
    "                doc_id = doc['doc_id']\n",
    "                abstract = doc['abstract']\n",
    "                \n",
    "                # Preprocess and store the result\n",
    "                corpus[doc_id] = preprocess(abstract)\n",
    "            else:\n",
    "                print(f\"Skipping document due to missing keys: {doc}\")\n",
    "except FileNotFoundError:\n",
    "    print(\"Error: The file 'corpus.jsonl' was not found.\")\n",
    "except json.JSONDecodeError as e:\n",
    "    print(f\"Error decoding JSON: {e}\")\n",
    "\n",
    "# Debugging: Print a sample of the preprocessed corpus\n",
    "for doc_id, tokens in list(corpus.items())[:5]:  # Display the first 5 entries\n",
    "    print(f\"Document ID: {doc_id}\\nTokens: {tokens}\\n\")"
   ]
  }
 ],
 "metadata": {
  "kernelspec": {
   "display_name": "base",
   "language": "python",
   "name": "python3"
  },
  "language_info": {
   "codemirror_mode": {
    "name": "ipython",
    "version": 3
   },
   "file_extension": ".py",
   "mimetype": "text/x-python",
   "name": "python",
   "nbconvert_exporter": "python",
   "pygments_lexer": "ipython3",
   "version": "3.12.4"
  }
 },
 "nbformat": 4,
 "nbformat_minor": 2
}
