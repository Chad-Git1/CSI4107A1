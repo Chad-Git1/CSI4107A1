{
 "cells": [
  {
   "cell_type": "code",
   "execution_count": 3,
   "metadata": {},
   "outputs": [
    {
     "name": "stdout",
     "output_type": "stream",
     "text": [
      "Requirement already satisfied: pandas in c:\\users\\prono\\anaconda3\\lib\\site-packages (2.2.2)\n",
      "Requirement already satisfied: openpyxl in c:\\users\\prono\\anaconda3\\lib\\site-packages (3.1.2)\n",
      "Requirement already satisfied: numpy>=1.26.0 in c:\\users\\prono\\anaconda3\\lib\\site-packages (from pandas) (1.26.4)\n",
      "Requirement already satisfied: python-dateutil>=2.8.2 in c:\\users\\prono\\appdata\\roaming\\python\\python312\\site-packages (from pandas) (2.9.0.post0)\n",
      "Requirement already satisfied: pytz>=2020.1 in c:\\users\\prono\\anaconda3\\lib\\site-packages (from pandas) (2024.1)\n",
      "Requirement already satisfied: tzdata>=2022.7 in c:\\users\\prono\\anaconda3\\lib\\site-packages (from pandas) (2023.3)\n",
      "Requirement already satisfied: et-xmlfile in c:\\users\\prono\\anaconda3\\lib\\site-packages (from openpyxl) (1.1.0)\n",
      "Requirement already satisfied: six>=1.5 in c:\\users\\prono\\appdata\\roaming\\python\\python312\\site-packages (from python-dateutil>=2.8.2->pandas) (1.16.0)\n",
      "Note: you may need to restart the kernel to use updated packages.\n"
     ]
    }
   ],
   "source": [
    "pip install pandas openpyxl"
   ]
  },
  {
   "cell_type": "code",
   "execution_count": 4,
   "metadata": {},
   "outputs": [
    {
     "name": "stderr",
     "output_type": "stream",
     "text": [
      "[nltk_data] Downloading package punkt to\n",
      "[nltk_data]     C:\\Users\\prono\\AppData\\Roaming\\nltk_data...\n",
      "[nltk_data]   Package punkt is already up-to-date!\n",
      "[nltk_data] Downloading package stopwords to\n",
      "[nltk_data]     C:\\Users\\prono\\AppData\\Roaming\\nltk_data...\n",
      "[nltk_data]   Package stopwords is already up-to-date!\n"
     ]
    },
    {
     "name": "stdout",
     "output_type": "stream",
     "text": [
      "Preprocessed data has been saved to preprocessed_corpus.xlsx\n"
     ]
    }
   ],
   "source": [
    "import json\n",
    "import re\n",
    "from nltk.tokenize import word_tokenize\n",
    "from nltk.corpus import stopwords\n",
    "from nltk.stem import PorterStemmer\n",
    "import nltk\n",
    "import pandas as pd\n",
    "\n",
    "# Download NLTK data files (if not already downloaded)\n",
    "nltk.download('punkt')\n",
    "nltk.download('stopwords')\n",
    "\n",
    "\n",
    "def preprocess(text):\n",
    "    \"\"\"\n",
    "    Preprocess the input text by tokenizing, removing non-alphanumeric tokens, \n",
    "    converting to lowercase, removing stopwords, and stemming.\n",
    "    \"\"\"\n",
    "    # Tokenization\n",
    "    tokens = word_tokenize(text)\n",
    "    \n",
    "    # Remove non-alphanumeric and convert to lowercase\n",
    "    tokens = [re.sub(r'\\W+', '', token).lower() for token in tokens if token.isalnum()]\n",
    "    \n",
    "    # Stopword removal\n",
    "    stop_words = set(stopwords.words('english'))\n",
    "    tokens = [token for token in tokens if token not in stop_words]\n",
    "    \n",
    "    # Stemming\n",
    "    stemmer = PorterStemmer()\n",
    "    tokens = [stemmer.stem(token) for token in tokens]\n",
    "    \n",
    "    return tokens\n",
    "\n",
    "# Read and preprocess documents\n",
    "corpus = {}\n",
    "try:\n",
    "    with open(\"corpus.jsonl\", \"r\") as f:\n",
    "        for line in f:\n",
    "            # Parse the JSON line\n",
    "            doc = json.loads(line)\n",
    "            \n",
    "            # Extract document ID and text (instead of abstract)\n",
    "            if '_id' in doc and 'text' in doc:\n",
    "                doc_id = doc['_id']  # Use '_id' as the document identifier\n",
    "                text = doc['text']  # Use 'text' as the content to preprocess\n",
    "                \n",
    "                # Preprocess and store the result\n",
    "                corpus[doc_id] = preprocess(text)\n",
    "            else:\n",
    "                print(f\"Skipping document due to missing keys: {doc}\")\n",
    "except FileNotFoundError:\n",
    "    print(\"Error: The file 'corpus.jsonl' was not found.\")\n",
    "except json.JSONDecodeError as e:\n",
    "    print(f\"Error decoding JSON: {e}\")\n",
    "\n",
    "# Convert the processed corpus into a list of dictionaries for easy saving into an Excel file\n",
    "data = []\n",
    "for doc_id, tokens in corpus.items():\n",
    "    data.append({\"Document ID\": doc_id, \"Tokens\": \" \".join(tokens)})\n",
    "\n",
    "# Create a DataFrame\n",
    "df = pd.DataFrame(data)\n",
    "\n",
    "# Save to Excel\n",
    "excel_filename = \"preprocessed_corpus.xlsx\"\n",
    "df.to_excel(excel_filename, index=False)\n",
    "\n",
    "print(f\"Preprocessed data has been saved to {excel_filename}\")\n"
   ]
  }
 ],
 "metadata": {
  "kernelspec": {
   "display_name": "base",
   "language": "python",
   "name": "python3"
  },
  "language_info": {
   "codemirror_mode": {
    "name": "ipython",
    "version": 3
   },
   "file_extension": ".py",
   "mimetype": "text/x-python",
   "name": "python",
   "nbconvert_exporter": "python",
   "pygments_lexer": "ipython3",
   "version": "3.12.4"
  }
 },
 "nbformat": 4,
 "nbformat_minor": 2
}
